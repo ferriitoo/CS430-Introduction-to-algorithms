{
 "cells": [
  {
   "cell_type": "markdown",
   "metadata": {},
   "source": [
    "#\n",
    "(a) (2 points) Calculate recursively F(n) by applying the top-down procedure Fib( ) which calls\n",
    "itself. Use your favorite programming language to write Fib( ). Test Fib( ) for different\n",
    "numerical values of n to make sure that Fib(n) correctly calculates F(n). You can use the\n",
    "formula for F(n) given in item (f) below to check your numerical results."
   ]
  },
  {
   "cell_type": "code",
   "execution_count": 89,
   "metadata": {},
   "outputs": [
    {
     "name": "stdout",
     "output_type": "stream",
     "text": [
      "The number of errors has been: 0\n"
     ]
    }
   ],
   "source": [
    "import numpy as np\n",
    "import matplotlib as plt\n",
    "import pandas as pd\n",
    "import math\n",
    "import matplotlib.pyplot as plt \n",
    "\n",
    "#Defining the Fibonacci recurrence function\n",
    "\n",
    "def Fib(n):\n",
    "    assert n >= 0\n",
    "    if(n == 0): #Defining the n = 0 case\n",
    "        return 0\n",
    "    elif(n == 1): #Defining the n = 1 case\n",
    "        return 1\n",
    "    else:\n",
    "        return Fib(n-1) + Fib(n-2)\n",
    "\n",
    "\n",
    "array_fib = [0, 1, 1, 2, 3, 5, 8, 13, 21, 34]\n",
    "\n",
    "def checking():\n",
    "    #Testing some values of the Fibonacci recursion\n",
    "    global array_fib\n",
    "    errors = 0\n",
    "    for i in range (8):\n",
    "        if (array_fib[i] != Fib(i)):\n",
    "            errors += 1\n",
    "    print(\"The number of errors has been: {}\".format(errors))    \n",
    "    \n",
    "checking()\n",
    "\n",
    "\n",
    "\n"
   ]
  },
  {
   "cell_type": "markdown",
   "metadata": {},
   "source": [
    "# \n",
    "(b) (2 points) Draw the recursion tree for Fib(5). Let's denote by T(n) the total number of calls\n",
    "to Fib( ) needed to calculate F(n) (note that T(n) includes the original call to Fib(n) at the root).\n",
    "What is the value of T(5)?"
   ]
  },
  {
   "cell_type": "code",
   "execution_count": 90,
   "metadata": {},
   "outputs": [],
   "source": [
    "a = (1 + math.sqrt(5))/2\n",
    "b =  (1 - math.sqrt(5))/2        \n",
    "F = (a + b) / math.sqrt(5) #What is the double prima? Derivatives?  \n"
   ]
  },
  {
   "cell_type": "markdown",
   "metadata": {},
   "source": [
    "#\n",
    "(c) (4 points) What is the recurrence for T(n)? What are the initial conditions of this recurrence?\n",
    "\n",
    "c.1) \n",
    "T(n) = T(n-1) - T(n-3) + T(n-1) = 2 * T(n-1) - T(n-3)\n",
    "This recursioin has been obtained due to the fact that, the value of T(n) will always be the value of T(n-1) added to the difference between T(n) and T(n-1).  As t(n) is the adittion between the previous to items, the difference between T(n) and T(n-1) will always be T(n-1) - T(n-3), that is to say, the sum of the new element that enters into the addition, and the substraction of the old element that is left out of the calculation. T(n-2) does not appear in the equation due to the fact that it would appear twice, one summing and other one substracting, therefore it can be simplified.  \n",
    "\n",
    "c.2) \n",
    "The initial conditions of this recurrence are as following:\n",
    "T(0) = T(1) = 1\n",
    "Due to the fact that we already have the F(0) and F(1) values, we only need to call F(n) one time.\n",
    "\n"
   ]
  },
  {
   "cell_type": "markdown",
   "metadata": {},
   "source": [
    "#\n",
    "(d) (2 points) Use Fib( ) to empirically verify that T(n)=2F(n+1)-1.\n"
   ]
  },
  {
   "cell_type": "code",
   "execution_count": 91,
   "metadata": {},
   "outputs": [
    {
     "name": "stdout",
     "output_type": "stream",
     "text": [
      "[1, 1, 3, 5, 9, 15]\n",
      "[1, 1, 3, 5, 9, 15]\n"
     ]
    }
   ],
   "source": [
    "def recurrence_T(n):\n",
    "    if ((n == 0) or (n == 1)):\n",
    "        return 1\n",
    "    if (n == 2):\n",
    "        return 3\n",
    "    else:\n",
    "        return (2*recurrence_T(n-1) - recurrence_T(n-3))\n",
    "\n",
    "def T(n):\n",
    "    return 2*Fib(n+1) - 1\n",
    "\n",
    "array_recurrence_T = []\n",
    "array_T = []\n",
    "\n",
    "n = 6\n",
    "\n",
    "for i in range(n):\n",
    "    array_recurrence_T.append(recurrence_T(i))\n",
    "    array_T.append(T(i))\n",
    "    \n",
    "print(array_T)\n",
    "print(array_recurrence_T)"
   ]
  },
  {
   "cell_type": "markdown",
   "metadata": {},
   "source": [
    "#\n",
    "(e) (4 points) Given the recurrence for T(n) found in item (c) above, prove by induction that the\n",
    "formula T(n)=2F(n+1)-1 is correct.\n",
    "\n",
    "PROVE BY INDUCTION, AS CHLEBUS DOES IN CLASS"
   ]
  },
  {
   "cell_type": "markdown",
   "metadata": {},
   "source": [
    "#\n",
    "(f) (2 points) Use the formula given in item (d) to find the asymptotic complexity T(n)=O(?)\n",
    "of Fib( ). The closed-form expression for the Fibonacci numbers F(n) = ϕ\n",
    "n−ψ\n",
    "n\n",
    "√5\n",
    ", where\n",
    "ϕ =\n",
    "1+√5\n",
    "2\n",
    "and ψ=\n",
    "1−√5\n",
    "2\n",
    ", may be helpful. \n",
    "\n",
    "T(N) = 2*F(n+1) - 1\n"
   ]
  },
  {
   "cell_type": "markdown",
   "metadata": {},
   "source": [
    "#\n",
    "(g) (2 points) Implement in your favorite programming language the bottom-up iterative\n",
    "procedure Better_Fib( ) with “memoization” for better performance. Test Better_Fib( ) for\n",
    "different numerical values of n to make sure that it correctly calculates F(n). You can use the\n",
    "formula for F(n) given in item (f) above to check your numerical results."
   ]
  },
  {
   "cell_type": "code",
   "execution_count": 102,
   "metadata": {},
   "outputs": [
    {
     "name": "stdout",
     "output_type": "stream",
     "text": [
      "The fib recursion with memoization IS ACCURATE\n"
     ]
    }
   ],
   "source": [
    "from functools import lru_cache\n",
    "\n",
    "@lru_cache(maxsize=None) #Importing a built-in decorator of python that implements memoization\n",
    "\n",
    "def fib(n):\n",
    "    if n < 2:  # base case\n",
    "        return n\n",
    "    return fib(n-1) + fib(n-2)\n",
    "\n",
    "alert = 0\n",
    "for i in range(number): #Checking that calculations with memoization are accurate\n",
    "    if(fib(i) != Fib(i)):\n",
    "        alert = 1\n",
    "if (alert == 1):\n",
    "    print(\"The fib recursion with memoization IS NOT ACCURATE\")\n",
    "else:\n",
    "    print(\"The fib recursion with memoization IS ACCURATE\")"
   ]
  },
  {
   "cell_type": "markdown",
   "metadata": {},
   "source": [
    "#\n",
    "(h) (1 point) What is the asymptotic complexity TBF(n)=O(?) of Better_Fib( )?"
   ]
  },
  {
   "cell_type": "code",
   "execution_count": 93,
   "metadata": {},
   "outputs": [],
   "source": [
    "#Even if not asked, here we will perform an experiment running both recursions, \n",
    "#the one with memoization and the one without. The running time for both will be measured.\n",
    "# ONLY WHAT MEASURED CAN BE IMPROVED!!!!!!!\n",
    "\n",
    "import time\n",
    "\n",
    "number = 32 #Enter a even number if possible "
   ]
  },
  {
   "cell_type": "code",
   "execution_count": 98,
   "metadata": {},
   "outputs": [
    {
     "name": "stdout",
     "output_type": "stream",
     "text": [
      "[0.040916681289673, 0.064802169799805, 0.108693361282349, 0.169315576553345, 0.270275592803955, 0.439883232116699, 0.684136390686035]\n",
      "[0.0, 0.0, 0.0, 0.0, 0.0, 0.0, 0.0]\n"
     ]
    }
   ],
   "source": [
    "#Recursion with and without memoization\n",
    "stepsize = int(number / 20)\n",
    "init = 20\n",
    "y_Fib = []\n",
    "y_fib = []\n",
    "\n",
    "def runtime(bool, n):\n",
    "    begin = time.time()\n",
    "    if (bool == 0): #If the boolean is 0, we run without memoization\n",
    "        Fib(n)\n",
    "    elif (bool == 1):    \n",
    "        fib(n)\n",
    "    end = time.time()\n",
    "    return round(end-begin, 15)\n",
    "    \n",
    "for i in range(init, number, stepsize):\n",
    "    y_Fib.append(runtime(0, i)) #Filling result array without memoization\n",
    "    y_fib.append(runtime(1, i)) #Filling result array with memoization\n",
    "    #print(runtime(0, i))\n",
    "    #print(runtime(1, i))\n",
    "\n",
    "h = 5\n",
    "print(y_Fib[h:])\n",
    "print(y_fib[h:])"
   ]
  },
  {
   "cell_type": "code",
   "execution_count": 95,
   "metadata": {},
   "outputs": [
    {
     "data": {
      "image/png": "[encoded data removed]",
      "text/plain": [
       "<Figure size 640x480 with 1 Axes>"
      ]
     },
     "metadata": {},
     "output_type": "display_data"
    }
   ],
   "source": [
    "#RUNTIME FINAL ANALYSIS\n",
    "\n",
    "x_array = range(init, number, stepsize)\n",
    "\n",
    "plt.xlabel(\"Number of items in the recursion\")\n",
    "plt.ylabel(\"Runtime in seconds\")\n",
    "plt.title(\"Comparison between two recursions' runtime\")\n",
    "plt.plot(x_array, y_Fib, label = \"without memoiozation\")\n",
    "plt.plot(x_array, y_fib, label = \"with memoization\")\n",
    "plt.legend(loc=\"upper left\")\n",
    "plt.show()"
   ]
  },
  {
   "cell_type": "markdown",
   "metadata": {},
   "source": [
    "CORRECCIONES NECESARIAS ESCRITAS POR FERRO Y A MIRAR POR LOS 3 CUANDO NOS JUNTEMOS:\n",
    "\n",
    "a) what is top-down procedure? igual lo menciona en clase en dudas, ferro igual ha empezado muy pronto a hacerlo\n",
    "\n",
    "g) the bottom-up? \n",
    "\n",
    "T(n) grows exponnetially with n\n",
    "\n",
    "g) mirar a ver si \"fib(n)\" se puede definir de una manera mas casera o elegante, sin usar decoradores de python que he cogido de un código"
   ]
  }
 ],
 "metadata": {
  "kernelspec": {
   "display_name": "Python 3.7.4 64-bit",
   "language": "python",
   "name": "python3"
  },
  "language_info": {
   "codemirror_mode": {
    "name": "ipython",
    "version": 3
   },
   "file_extension": ".py",
   "mimetype": "text/x-python",
   "name": "python",
   "nbconvert_exporter": "python",
   "pygments_lexer": "ipython3",
   "version": "3.7.4"
  },
  "orig_nbformat": 4,
  "vscode": {
   "interpreter": {
    "hash": "fec7c492cb63a891b61f6a129c254b2f9b08ab3c88ef1c1ffe13c4cf2a66800d"
   }
  }
 },
 "nbformat": 4,
 "nbformat_minor": 2
}
