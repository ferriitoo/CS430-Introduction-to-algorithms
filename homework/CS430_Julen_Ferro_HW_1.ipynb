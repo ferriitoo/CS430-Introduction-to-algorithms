{
  "nbformat": 4,
  "nbformat_minor": 0,
  "metadata": {
    "colab": {
      "provenance": [],
      "collapsed_sections": [],
      "history_visible": true
    },
    "kernelspec": {
      "name": "python3",
      "display_name": "Python 3"
    },
    "language_info": {
      "name": "python"
    }
  },
  "cells": [
    {
      "cell_type": "code",
      "execution_count": null,
      "metadata": {
        "colab": {
          "base_uri": "https://localhost:8080/",
          "height": 297
        },
        "id": "i-m7kQfddcs2",
        "outputId": "1f0eed1d-d894-4d48-936f-9b4ab9c66b5d"
      },
      "outputs": [
        {
          "output_type": "stream",
          "name": "stdout",
          "text": [
            "Last value of the T(n) array:  19.995536\n"
          ]
        },
        {
          "output_type": "display_data",
          "data": {
            "text/plain": [
              "<Figure size 432x288 with 1 Axes>"
            ],
            "image/png": "[encoded data removed]"
          },
          "metadata": {
            "needs_background": "light"
          }
        }
      ],
      "source": [
        "import numpy as np\n",
        "import matplotlib.pyplot as plt\n",
        "import math\n",
        "\n",
        "def T_func(n): #function that fills the array of values of the T(n) function. \n",
        "  results = []\n",
        "  diff = []\n",
        "  if (n >= 1):\n",
        "    results.append(4)\n",
        "    for k in range (1, n):\n",
        "        res = results[k-1] * pow((k**2 + 4*k)/(k**2 + 4*k + 3),k) * ((k+4)/(k+1))\n",
        "        res_round = round(res, 7)\n",
        "        results.append(res_round)\n",
        "  return results #returns the filled array of T(n)\n",
        "      \n",
        "\n",
        "def log_fill(n): #function that fills the array with values of the log(n) function.\n",
        "  log_series = []\n",
        "  for i in range(n):\n",
        "    log_series.append(math.log( i+1, 10))\n",
        "  return log_series #returns the filled array of the log(n) function\n",
        "\n",
        "\n",
        "def plot(n): #function that plots values of both, T(n) and log(n) functions.\n",
        "  log_array = []\n",
        "  T_n = T_func(n)\n",
        "  x_axis = np.arange(n) #creates an array of [1,2,3,4..., n] for plotting in x-axis\n",
        "  plt.xlabel(\"Number of n\")\n",
        "  plt.ylabel(\"Complexity\")\n",
        "  plt.scatter(x_axis , T_n)\n",
        "  print(\"Last value of the T(n) array: \", T_n[n-1]) #printing the last element of T(n) array\n",
        "  \n",
        "n = 1000\n",
        "plot(n)\n",
        "\n",
        "\n"
      ]
    },
    {
      "cell_type": "markdown",
      "source": [
        "##2.\n",
        "(4 points) Can you find an analytical solution to the recurrence given above? Feel free to use\n",
        "any methodology. Compare the analytical asymptotic complexity of T(n) with the numerical one\n",
        "found in item (1). Are they the same? (no coding required; theoretical analysis only)\n",
        "$T(1)=4 \\\\\n",
        "T(n+1)=T(n) \\cdot \\left(\\frac{n^2+4n}{n^2+4n+3}\\right)^n ⋅ \\frac{n+4}{n+1}\\\\\n",
        "T(n+1)=T(n) \\cdot \\left(\\frac{(n+4)n}{(n+3)(n+1)}\\right)^n ⋅ \\frac{n+4}{n+1}\\\\\n",
        "T(n+1)=T(n) \\cdot \\left(\\frac{(n+4)n}{(n+3)(n+1)}\\right)^n ⋅ \\frac{n+4}{n+1}\\\\\n",
        "T(n+1)=T(n) \\cdot \\frac{(n+4)^{n+1}n^n}{(n+3)^n(n+1)^{n+1}}\\\\\n",
        "We\\:want\\:to\\: discover\\: the\\: T(n)\\: function\\: without\\: recurrence,\\: and\\: we\\: subsititute\\: recurrently\\: T(n),\\: then\\:\\: T(n-1)\\: etc.\\: to \\: see\\: if\\: we\\: can \\:find \\:the\\:non-recurring\\:formula. \\\\\n",
        "T(n+1)= \\frac{{(n+4)^{n+1}}\\cdot (n+3)^{n}\\cdot (n+2)^{n-1}\\cdot\\cdot\\cdot(1+4)^{1+1}}{(n+3)^{n}\\cdot (n+2)^{n-1}\\cdot (n+1)^{n-2}\\cdot\\cdot\\cdot(1+3)^{1}}\n",
        "\\cdot \\frac{(n)^{n}\\cdot (n-1)^{n-1}\\cdot (n-2)^{n-2}\\cdot\\cdot\\cdot(1)^{1}}{(n+1)^{n+1}\\cdot (n)^{n}\\cdot (n-1)^{n-1}\\cdot\\cdot\\cdot(1+1)^{1+1}} \\cdot T(1)\n",
        "\\\\\n",
        "T(n+1)= \\frac{(n+4)^{n+1}}{(1+3)^{1}}\n",
        "\\cdot \\frac{(1)^{1}}{(n+1)^{n+1}} \\cdot T(1)\n",
        "\\\\\n",
        "T(n+1)= \\left(\\frac{n+4}{n+1}\\right)^{n+1} \\cdot \\frac{4}{4} \\\\\n",
        "T(n+1)= \\left(\\frac{n+4}{n+1}\\right)^{n+1} \\\\\n",
        "T(n)= \\left(\\frac{n+3}{n}\\right)^{n} =\\left(1+\\frac{3}{n}\\right)^{n} \\\\\n",
        "\\lim_{x \\to ∞}T(n)=1^∞ \\\\\n",
        "\\lim_{x \\to ∞}T(n)=e^{\\lim_{x \\to ∞} \\left(\\frac{n+3}{n}-1\\right) \\cdot (n)} \\\\\n",
        "\\lim_{x \\to ∞}T(n)=e^{\\lim_{x \\to ∞} \\left(\\frac{n+3-n}{n}\\right) \\cdot (n)}=e^{\\lim_{x \\to ∞} \\left(\\frac{3}{n}\\right) \\cdot (n)} \\\\\n",
        "\\lim_{x \\to ∞}T(n)=e^3 \\\\\n",
        "Knowing\\:that\\:the\\:limit\\:of\\:T(n)\\:when\\:n\\:tends\\:to\\:infinity\\:is\\:e^3,\\:it\\:is\\:proven\\:that\\:T(n)=Θ(e^3)=Θ(1)\n",
        "$\n"
      ],
      "metadata": {
        "id": "Hp88_VtcKdcu"
      }
    }
  ]
}